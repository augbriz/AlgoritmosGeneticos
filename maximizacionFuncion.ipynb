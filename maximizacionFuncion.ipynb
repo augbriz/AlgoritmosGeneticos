{
  "nbformat": 4,
  "nbformat_minor": 0,
  "metadata": {
    "colab": {
      "provenance": []
    },
    "kernelspec": {
      "name": "python3",
      "display_name": "Python 3"
    },
    "language_info": {
      "name": "python"
    }
  },
  "cells": [
    {
      "cell_type": "code",
      "execution_count": 1,
      "metadata": {
        "id": "2pmWdd17xnsw"
      },
      "outputs": [],
      "source": [
        "import random\n",
        "import heapq\n",
        "#Fijamos el valor de las variables a utilizar\n",
        "prob_cross = 0.75\n",
        "prob_mut = 0.05\n",
        "pob_ini = 10\n",
        "ciclos = 20\n",
        "gen_size = 30\n",
        "coef = 2**30 - 1\n",
        "poblacion = []"
      ]
    },
    {
      "cell_type": "markdown",
      "source": [
        "Definimos los cromosomas iniciales"
      ],
      "metadata": {
        "id": "_ykKlPWdyCfH"
      }
    },
    {
      "cell_type": "code",
      "source": [
        "def gen_poblacion():\n",
        "    for i in range(pob_ini):\n",
        "        cromosoma = []\n",
        "        for j in range(gen_size):\n",
        "         cromosoma.append(random.randint(0, 1))\n",
        "        poblacion.append(cromosoma)\n",
        "\n",
        "    return poblacion\n",
        ""
      ],
      "metadata": {
        "id": "pywXeidWx3iY"
      },
      "execution_count": 3,
      "outputs": []
    },
    {
      "cell_type": "markdown",
      "source": [
        "Cromosoma a decimal"
      ],
      "metadata": {
        "id": "lqholPmTyUbG"
      }
    },
    {
      "cell_type": "code",
      "source": [
        "\n",
        "def cromosoma_decimal(cromosoma):\n",
        "    decimal = 0\n",
        "    for i in range(gen_size):\n",
        "        decimal += cromosoma[i] * (2 ** i)\n",
        "    return decimal"
      ],
      "metadata": {
        "id": "wGWS0ZjyyXQ0"
      },
      "execution_count": 6,
      "outputs": []
    },
    {
      "cell_type": "markdown",
      "source": [
        "Valuamos la funcion por cromosoma"
      ],
      "metadata": {
        "id": "wrV6RVYs1d1m"
      }
    },
    {
      "cell_type": "code",
      "source": [
        "def fitness(cromosoma):\n",
        " decimal = cromosoma_decimal(cromosoma)\n",
        " return (decimal/coef)**2"
      ],
      "metadata": {
        "id": "6zoRK5jt1a5U"
      },
      "execution_count": 9,
      "outputs": []
    },
    {
      "cell_type": "markdown",
      "source": [
        "Sacamos porcentaje de Fitness"
      ],
      "metadata": {
        "id": "lB97_1jcyhKu"
      }
    },
    {
      "cell_type": "code",
      "source": [
        "def fitness_total(poblacion):\n",
        "    suma=0\n",
        "    for i in range (pob_ini):\n",
        "        suma+= fitness(poblacion[i])\n",
        "    return suma"
      ],
      "metadata": {
        "id": "tWrsR_rNyjrX"
      },
      "execution_count": 10,
      "outputs": []
    },
    {
      "cell_type": "code",
      "source": [
        "for i in range (pob_ini):\n",
        "    print(\"Numero de cromosoma: \", i+1)\n",
        "    print(\"Cromosoma: \", gen_poblacion()[i])\n",
        "    print(\"Decimal: \", cromosoma_decimal(poblacion[i]))\n",
        "    print(\"Valor funcion: \", fitness(poblacion[i]))\n",
        "    print(\"Fitness: \", (fitness(poblacion[i]))/fitness_total(poblacion))\n",
        "    print(\"----------------------------------------------------\")"
      ],
      "metadata": {
        "colab": {
          "base_uri": "https://localhost:8080/"
        },
        "id": "nCdnxHb_yrD_",
        "outputId": "c1bc83e1-f059-4446-8110-e0142a29a94e"
      },
      "execution_count": 11,
      "outputs": [
        {
          "output_type": "stream",
          "name": "stdout",
          "text": [
            "Numero de cromosoma:  1\n",
            "Cromosoma:  [0, 0, 0, 1, 1, 0, 1, 0, 0, 1, 0, 1, 0, 0, 0, 0, 0, 1, 1, 0, 0, 1, 1, 0, 1, 0, 1, 0, 1, 1]\n",
            "Decimal:  895879768\n",
            "Valor funcion:  0.6961450168113443\n",
            "Fitness:  0.1459134911539417\n",
            "----------------------------------------------------\n",
            "Numero de cromosoma:  2\n",
            "Cromosoma:  [0, 0, 0, 1, 0, 0, 1, 0, 1, 1, 1, 0, 1, 1, 0, 1, 1, 0, 0, 1, 0, 0, 1, 1, 0, 0, 1, 1, 1, 1]\n",
            "Decimal:  1019852616\n",
            "Valor funcion:  0.9021423888298966\n",
            "Fitness:  0.18909098290335108\n",
            "----------------------------------------------------\n",
            "Numero de cromosoma:  3\n",
            "Cromosoma:  [0, 0, 1, 1, 1, 0, 1, 0, 1, 0, 1, 0, 1, 0, 0, 0, 1, 1, 0, 0, 1, 0, 0, 1, 1, 1, 1, 1, 1, 0]\n",
            "Decimal:  529732956\n",
            "Valor funcion:  0.24339645333519896\n",
            "Fitness:  0.051016419543301675\n",
            "----------------------------------------------------\n",
            "Numero de cromosoma:  4\n",
            "Cromosoma:  [1, 1, 1, 1, 1, 0, 0, 0, 1, 1, 0, 1, 1, 0, 1, 0, 1, 1, 0, 0, 1, 0, 0, 1, 0, 0, 0, 1, 1, 1]\n",
            "Decimal:  949181215\n",
            "Valor funcion:  0.7814452041938835\n",
            "Fitness:  0.16379259369220595\n",
            "----------------------------------------------------\n",
            "Numero de cromosoma:  5\n",
            "Cromosoma:  [1, 1, 1, 1, 0, 1, 0, 1, 1, 1, 1, 1, 1, 0, 0, 0, 1, 0, 1, 0, 1, 0, 0, 0, 0, 0, 0, 1, 0, 1]\n",
            "Decimal:  672473007\n",
            "Valor funcion:  0.3922382783033932\n",
            "Fitness:  0.08221398583532434\n",
            "----------------------------------------------------\n",
            "Numero de cromosoma:  6\n",
            "Cromosoma:  [1, 0, 1, 0, 1, 1, 1, 1, 1, 1, 1, 1, 1, 1, 0, 0, 1, 0, 0, 1, 1, 0, 1, 0, 1, 0, 1, 0, 1, 0]\n",
            "Decimal:  358170613\n",
            "Valor funcion:  0.11127053120541261\n",
            "Fitness:  0.023322542399431264\n",
            "----------------------------------------------------\n",
            "Numero de cromosoma:  7\n",
            "Cromosoma:  [1, 1, 0, 1, 1, 0, 0, 0, 0, 1, 0, 1, 0, 0, 1, 0, 0, 0, 1, 0, 0, 1, 1, 1, 1, 1, 0, 1, 1, 0]\n",
            "Decimal:  467946011\n",
            "Valor funcion:  0.18992920918181086\n",
            "Fitness:  0.0398095702972411\n",
            "----------------------------------------------------\n",
            "Numero de cromosoma:  8\n",
            "Cromosoma:  [1, 0, 1, 0, 0, 0, 1, 1, 1, 0, 0, 0, 0, 1, 0, 0, 0, 0, 1, 1, 1, 0, 0, 0, 1, 0, 0, 1, 1, 1]\n",
            "Decimal:  958144965\n",
            "Valor funcion:  0.7962743100866134\n",
            "Fitness:  0.1669008061468619\n",
            "----------------------------------------------------\n",
            "Numero de cromosoma:  9\n",
            "Cromosoma:  [1, 0, 0, 1, 0, 1, 1, 1, 0, 1, 1, 1, 0, 0, 1, 1, 0, 0, 0, 1, 1, 1, 0, 1, 0, 0, 1, 1, 0, 1]\n",
            "Decimal:  750309097\n",
            "Valor funcion:  0.48829320976325363\n",
            "Fitness:  0.10234730583818674\n",
            "----------------------------------------------------\n",
            "Numero de cromosoma:  10\n",
            "Cromosoma:  [1, 1, 1, 1, 1, 0, 1, 0, 1, 1, 1, 1, 1, 1, 1, 0, 1, 1, 1, 1, 1, 0, 1, 0, 0, 1, 0, 1, 1, 0]\n",
            "Decimal:  442466143\n",
            "Valor funcion:  0.16980886147380783\n",
            "Fitness:  0.03559230219015424\n",
            "----------------------------------------------------\n"
          ]
        }
      ]
    }
  ]
}